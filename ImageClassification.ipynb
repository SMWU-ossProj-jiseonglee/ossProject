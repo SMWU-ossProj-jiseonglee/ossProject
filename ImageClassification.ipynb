{
  "nbformat": 4,
  "nbformat_minor": 0,
  "metadata": {
    "colab": {
      "provenance": [],
      "gpuType": "T4"
    },
    "kernelspec": {
      "name": "python3",
      "display_name": "Python 3"
    },
    "language_info": {
      "name": "python"
    },
    "accelerator": "GPU"
  },
  "cells": [
    {
      "cell_type": "code",
      "execution_count": 2,
      "metadata": {
        "colab": {
          "base_uri": "https://localhost:8080/"
        },
        "id": "AwDwspBuW80v",
        "outputId": "2408c17e-5840-45ff-a49d-f6cb00d6836d"
      },
      "outputs": [
        {
          "output_type": "stream",
          "name": "stdout",
          "text": [
            "Drive already mounted at /content/drive; to attempt to forcibly remount, call drive.mount(\"/content/drive\", force_remount=True).\n"
          ]
        }
      ],
      "source": [
        "from google.colab import drive\n",
        "drive.mount('/content/drive')"
      ]
    },
    {
      "cell_type": "code",
      "source": [
        "cd /content/drive/MyDrive/forimagedetect/"
      ],
      "metadata": {
        "colab": {
          "base_uri": "https://localhost:8080/"
        },
        "id": "exPwUHcTXlxn",
        "outputId": "897e5a25-07e2-4cc3-9bce-c4c160e27633"
      },
      "execution_count": 3,
      "outputs": [
        {
          "output_type": "stream",
          "name": "stdout",
          "text": [
            "/content/drive/MyDrive/forimagedetect\n"
          ]
        }
      ]
    },
    {
      "cell_type": "code",
      "source": [
        "!pip install torchinfo\n",
        "!pip install torchvision\n",
        "!pip install tqdm\n"
      ],
      "metadata": {
        "colab": {
          "base_uri": "https://localhost:8080/"
        },
        "id": "TX2B_iDmXLjB",
        "outputId": "e5d9eb4a-be2d-4882-e95a-a26053035c6d"
      },
      "execution_count": 4,
      "outputs": [
        {
          "output_type": "stream",
          "name": "stdout",
          "text": [
            "Collecting torchinfo\n",
            "  Downloading torchinfo-1.8.0-py3-none-any.whl (23 kB)\n",
            "Installing collected packages: torchinfo\n",
            "Successfully installed torchinfo-1.8.0\n",
            "Requirement already satisfied: torchvision in /usr/local/lib/python3.10/dist-packages (0.18.0+cu121)\n",
            "Requirement already satisfied: numpy in /usr/local/lib/python3.10/dist-packages (from torchvision) (1.25.2)\n",
            "Requirement already satisfied: torch==2.3.0 in /usr/local/lib/python3.10/dist-packages (from torchvision) (2.3.0+cu121)\n",
            "Requirement already satisfied: pillow!=8.3.*,>=5.3.0 in /usr/local/lib/python3.10/dist-packages (from torchvision) (9.4.0)\n",
            "Requirement already satisfied: filelock in /usr/local/lib/python3.10/dist-packages (from torch==2.3.0->torchvision) (3.14.0)\n",
            "Requirement already satisfied: typing-extensions>=4.8.0 in /usr/local/lib/python3.10/dist-packages (from torch==2.3.0->torchvision) (4.12.2)\n",
            "Requirement already satisfied: sympy in /usr/local/lib/python3.10/dist-packages (from torch==2.3.0->torchvision) (1.12.1)\n",
            "Requirement already satisfied: networkx in /usr/local/lib/python3.10/dist-packages (from torch==2.3.0->torchvision) (3.3)\n",
            "Requirement already satisfied: jinja2 in /usr/local/lib/python3.10/dist-packages (from torch==2.3.0->torchvision) (3.1.4)\n",
            "Requirement already satisfied: fsspec in /usr/local/lib/python3.10/dist-packages (from torch==2.3.0->torchvision) (2023.6.0)\n",
            "Collecting nvidia-cuda-nvrtc-cu12==12.1.105 (from torch==2.3.0->torchvision)\n",
            "  Using cached nvidia_cuda_nvrtc_cu12-12.1.105-py3-none-manylinux1_x86_64.whl (23.7 MB)\n",
            "Collecting nvidia-cuda-runtime-cu12==12.1.105 (from torch==2.3.0->torchvision)\n",
            "  Using cached nvidia_cuda_runtime_cu12-12.1.105-py3-none-manylinux1_x86_64.whl (823 kB)\n",
            "Collecting nvidia-cuda-cupti-cu12==12.1.105 (from torch==2.3.0->torchvision)\n",
            "  Using cached nvidia_cuda_cupti_cu12-12.1.105-py3-none-manylinux1_x86_64.whl (14.1 MB)\n",
            "Collecting nvidia-cudnn-cu12==8.9.2.26 (from torch==2.3.0->torchvision)\n",
            "  Using cached nvidia_cudnn_cu12-8.9.2.26-py3-none-manylinux1_x86_64.whl (731.7 MB)\n",
            "Collecting nvidia-cublas-cu12==12.1.3.1 (from torch==2.3.0->torchvision)\n",
            "  Using cached nvidia_cublas_cu12-12.1.3.1-py3-none-manylinux1_x86_64.whl (410.6 MB)\n",
            "Collecting nvidia-cufft-cu12==11.0.2.54 (from torch==2.3.0->torchvision)\n",
            "  Using cached nvidia_cufft_cu12-11.0.2.54-py3-none-manylinux1_x86_64.whl (121.6 MB)\n",
            "Collecting nvidia-curand-cu12==10.3.2.106 (from torch==2.3.0->torchvision)\n",
            "  Using cached nvidia_curand_cu12-10.3.2.106-py3-none-manylinux1_x86_64.whl (56.5 MB)\n",
            "Collecting nvidia-cusolver-cu12==11.4.5.107 (from torch==2.3.0->torchvision)\n",
            "  Using cached nvidia_cusolver_cu12-11.4.5.107-py3-none-manylinux1_x86_64.whl (124.2 MB)\n",
            "Collecting nvidia-cusparse-cu12==12.1.0.106 (from torch==2.3.0->torchvision)\n",
            "  Using cached nvidia_cusparse_cu12-12.1.0.106-py3-none-manylinux1_x86_64.whl (196.0 MB)\n",
            "Collecting nvidia-nccl-cu12==2.20.5 (from torch==2.3.0->torchvision)\n",
            "  Using cached nvidia_nccl_cu12-2.20.5-py3-none-manylinux2014_x86_64.whl (176.2 MB)\n",
            "Collecting nvidia-nvtx-cu12==12.1.105 (from torch==2.3.0->torchvision)\n",
            "  Using cached nvidia_nvtx_cu12-12.1.105-py3-none-manylinux1_x86_64.whl (99 kB)\n",
            "Requirement already satisfied: triton==2.3.0 in /usr/local/lib/python3.10/dist-packages (from torch==2.3.0->torchvision) (2.3.0)\n",
            "Collecting nvidia-nvjitlink-cu12 (from nvidia-cusolver-cu12==11.4.5.107->torch==2.3.0->torchvision)\n",
            "  Downloading nvidia_nvjitlink_cu12-12.5.40-py3-none-manylinux2014_x86_64.whl (21.3 MB)\n",
            "\u001b[2K     \u001b[90m━━━━━━━━━━━━━━━━━━━━━━━━━━━━━━━━━━━━━━━━\u001b[0m \u001b[32m21.3/21.3 MB\u001b[0m \u001b[31m67.6 MB/s\u001b[0m eta \u001b[36m0:00:00\u001b[0m\n",
            "\u001b[?25hRequirement already satisfied: MarkupSafe>=2.0 in /usr/local/lib/python3.10/dist-packages (from jinja2->torch==2.3.0->torchvision) (2.1.5)\n",
            "Requirement already satisfied: mpmath<1.4.0,>=1.1.0 in /usr/local/lib/python3.10/dist-packages (from sympy->torch==2.3.0->torchvision) (1.3.0)\n",
            "Installing collected packages: nvidia-nvtx-cu12, nvidia-nvjitlink-cu12, nvidia-nccl-cu12, nvidia-curand-cu12, nvidia-cufft-cu12, nvidia-cuda-runtime-cu12, nvidia-cuda-nvrtc-cu12, nvidia-cuda-cupti-cu12, nvidia-cublas-cu12, nvidia-cusparse-cu12, nvidia-cudnn-cu12, nvidia-cusolver-cu12\n",
            "Successfully installed nvidia-cublas-cu12-12.1.3.1 nvidia-cuda-cupti-cu12-12.1.105 nvidia-cuda-nvrtc-cu12-12.1.105 nvidia-cuda-runtime-cu12-12.1.105 nvidia-cudnn-cu12-8.9.2.26 nvidia-cufft-cu12-11.0.2.54 nvidia-curand-cu12-10.3.2.106 nvidia-cusolver-cu12-11.4.5.107 nvidia-cusparse-cu12-12.1.0.106 nvidia-nccl-cu12-2.20.5 nvidia-nvjitlink-cu12-12.5.40 nvidia-nvtx-cu12-12.1.105\n",
            "Requirement already satisfied: tqdm in /usr/local/lib/python3.10/dist-packages (4.66.4)\n"
          ]
        }
      ]
    },
    {
      "cell_type": "code",
      "source": [
        "import warnings\n",
        "warnings.filterwarnings(action = \"ignore\")\n",
        "\n",
        "import time\n",
        "from tqdm import tqdm\n",
        "import matplotlib.pyplot as plt\n",
        "from PIL import Image\n",
        "\n",
        "import numpy as np\n",
        "import torch\n",
        "from torch import nn,optim\n",
        "from torchinfo import summary\n",
        "from torchvision.models import efficientnet_b0\n",
        "\n",
        "from torchvision import transforms\n",
        "from torchvision.datasets import ImageFolder\n",
        "from torch.utils.data import DataLoader, random_split\n",
        "import torchvision.transforms.functional as F\n",
        "\n",
        "from sklearn.metrics import accuracy_score\n",
        "import sys\n",
        "mod = sys.modules[__name__]\n",
        "\n",
        "DEVICE = torch.device(\"cuda\" if torch.cuda.is_available() else \"cpu\")\n",
        "print(DEVICE)"
      ],
      "metadata": {
        "colab": {
          "base_uri": "https://localhost:8080/"
        },
        "id": "WE2Gnlpnn8fo",
        "outputId": "21a5ebb8-4e7a-4ecc-afc4-a09c1f0025b9"
      },
      "execution_count": 5,
      "outputs": [
        {
          "output_type": "stream",
          "name": "stdout",
          "text": [
            "cuda\n"
          ]
        }
      ]
    },
    {
      "cell_type": "code",
      "source": [
        "class resize_with_pad:\n",
        "    def __init__(self, w=224, h=224):\n",
        "        self.w = w\n",
        "        self.h = h\n",
        "        self.resize = transforms.Resize(size=(self.h, self.w))\n",
        "\n",
        "    def __call__(self, image):\n",
        "\n",
        "        img_w, img_h = image.size\n",
        "        ratio_f = self.w / self.h\n",
        "        img_ratio = img_w / img_h\n",
        "\n",
        "        if round(img_ratio, 2) != round(ratio_f, 2):\n",
        "\n",
        "            hp = int(img_w/ratio_f - img_h)\n",
        "            wp = int(ratio_f * img_h - img_w)\n",
        "            if hp > 0 and wp < 0:\n",
        "                hp = hp // 2\n",
        "                image = F.pad(image, (0, hp, 0, hp), 0, \"constant\")\n",
        "                return F.resize(image, [self.h, self.w])\n",
        "\n",
        "            elif hp < 0 and wp > 0:\n",
        "                wp = wp // 2\n",
        "                image = F.pad(image, (wp, 0, wp, 0), 0, \"constant\")\n",
        "                return F.resize(image, [self.h, self.w])\n",
        "\n",
        "        else:\n",
        "            return F.resize(image, [self.h, self.w])"
      ],
      "metadata": {
        "id": "ieO5kNYQXVoC"
      },
      "execution_count": 6,
      "outputs": []
    },
    {
      "cell_type": "code",
      "source": [
        "\n",
        "class PretrainModel(nn.Module):\n",
        "    def __init__(self, pretrained_model_name, n_classes:int):\n",
        "        super().__init__()\n",
        "        self.pretrained_name = pretrained_model_name\n",
        "        self.pretrained_model = getattr(mod, pretrained_model_name)(pretrained = True)\n",
        "        self.pretrained_model.classifier = nn.Sequential(\n",
        "            nn.Dropout(p = 0.2, inplace=True),\n",
        "            nn.Linear(self.pretrained_model.classifier[1].in_features, n_classes),\n",
        "        )\n",
        "\n",
        "\n",
        "    def forward(self, x):\n",
        "        x = self.pretrained_model(x)\n",
        "        return x"
      ],
      "metadata": {
        "id": "AKWnbD2EXcIA"
      },
      "execution_count": 7,
      "outputs": []
    },
    {
      "cell_type": "code",
      "source": [
        "\n",
        "transform = transforms.Compose([\n",
        "    resize_with_pad(),\n",
        "    transforms.ToTensor(),\n",
        "])\n",
        "\n",
        "dataset = ImageFolder(root = \"./data\", transform = transform)\n",
        "dataset.class_to_idx"
      ],
      "metadata": {
        "colab": {
          "base_uri": "https://localhost:8080/"
        },
        "id": "cA3dYPIyanNq",
        "outputId": "da36046b-a553-47a2-d89c-fa80982252ca"
      },
      "execution_count": 8,
      "outputs": [
        {
          "output_type": "execute_result",
          "data": {
            "text/plain": [
              "{'nostair': 0, 'stair': 1}"
            ]
          },
          "metadata": {},
          "execution_count": 8
        }
      ]
    },
    {
      "cell_type": "code",
      "source": [
        "SEED = 88\n",
        "TEST_RATIO = 0.2\n",
        "\n",
        "BATCH_SIZE = 32\n",
        "N_CLASS = 2\n",
        "EPOCHS = 10000\n",
        "\n",
        "LR = 0.00007\n",
        "LABEL_SMOOTHING = 0.1\n",
        "VERBOSE = True"
      ],
      "metadata": {
        "id": "afbTN1sgZfFs"
      },
      "execution_count": 9,
      "outputs": []
    },
    {
      "cell_type": "code",
      "source": [
        "transform = transforms.Compose([\n",
        "    resize_with_pad(),\n",
        "    transforms.ToTensor(),\n",
        "])"
      ],
      "metadata": {
        "id": "xpDXvaUAZhz_"
      },
      "execution_count": 10,
      "outputs": []
    },
    {
      "cell_type": "code",
      "source": [
        "dataset = ImageFolder(root = \"./data\", transform = transform)\n",
        "dataset.class_to_idx"
      ],
      "metadata": {
        "colab": {
          "base_uri": "https://localhost:8080/"
        },
        "id": "cnVLxYeUZlJ0",
        "outputId": "6c21a5c0-5a99-40d7-bd20-fb4ec0a00ec7"
      },
      "execution_count": 11,
      "outputs": [
        {
          "output_type": "execute_result",
          "data": {
            "text/plain": [
              "{'nostair': 0, 'stair': 1}"
            ]
          },
          "metadata": {},
          "execution_count": 11
        }
      ]
    },
    {
      "cell_type": "code",
      "source": [
        "from torch.utils.data import DataLoader, random_split\n",
        "\n",
        "generator = torch.Generator()\n",
        "generator.manual_seed(SEED)\n",
        "\n",
        "dataset_size = len(dataset)\n",
        "train_size = int(dataset_size * (1 - TEST_RATIO))\n",
        "test_size = dataset_size - train_size\n",
        "\n",
        "val_size = int(train_size * TEST_RATIO)\n",
        "train_size = train_size - val_size\n",
        "\n",
        "train_dataset, val_dataset, test_dataset = random_split(dataset, [train_size, val_size, test_size], generator)\n",
        "\n",
        "# Confirm\n",
        "print(f\"Training Data Size : {len(train_dataset)}\")\n",
        "print(f\"Validation Data Size : {len(val_dataset)}\")\n",
        "print(f\"Testing Data Size : {len(test_dataset)}\")\n",
        "\n",
        "# DataLoader\n",
        "train_loader = DataLoader(train_dataset, batch_size = BATCH_SIZE, shuffle = True)\n",
        "val_loader = DataLoader(val_dataset, batch_size = BATCH_SIZE, shuffle = True)\n",
        "test_loader = DataLoader(test_dataset, batch_size = BATCH_SIZE, shuffle = False)"
      ],
      "metadata": {
        "colab": {
          "base_uri": "https://localhost:8080/"
        },
        "id": "Cj1-WIQ8XdzC",
        "outputId": "0d2fff12-6b9b-4d1d-819e-e47bdac64489"
      },
      "execution_count": 12,
      "outputs": [
        {
          "output_type": "stream",
          "name": "stdout",
          "text": [
            "Training Data Size : 1297\n",
            "Validation Data Size : 324\n",
            "Testing Data Size : 406\n"
          ]
        }
      ]
    },
    {
      "cell_type": "code",
      "source": [
        "class EarlyStopping:\n",
        "    def __init__(self, patience = 5, thresh = 0.0, mode = \"min\", verbose = True):\n",
        "        self.early_stop = False\n",
        "        self.patience = patience\n",
        "        self.verbose = verbose\n",
        "        self.mode = mode\n",
        "        self.thresh = thresh\n",
        "\n",
        "        self.counter = 0\n",
        "        self.best_score = np.Inf if mode == \"min\" else 0 if mode == \"max\" else AssertionError\n",
        "\n",
        "    def step(self, score):\n",
        "        if self.mode == \"min\":\n",
        "            if score < (self.best_score - self.thresh):\n",
        "                self.counter = 0\n",
        "                self.best_score = score\n",
        "            else:\n",
        "                self.counter += 1\n",
        "                if self.verbose:\n",
        "                    print(f\"[EarlyStopping] (Patience) {self.counter}/{self.patience}. \"\\\n",
        "                          f\"Best score: {self.best_score:.5f}\"\\\n",
        "                          f\", Current: {score:.5f}\")\n",
        "\n",
        "\n",
        "        elif self.mode == \"max\":\n",
        "            if score > (self.best_score + self.thresh):\n",
        "                self.counter = 0\n",
        "                self.best_score = score\n",
        "                if self.verbose:\n",
        "                    print(f\"[EarlyStopping] (Patience) {self.counter}/{self.patience}. \"\\\n",
        "                          f\"Best score: {self.best_score:.5f}\"\\\n",
        "                          f\", Current: {score:.5f}\")\n",
        "\n",
        "        if self.counter >= self.patience:\n",
        "            if self.verbose:\n",
        "                print(f\"[EarlyStop Triggered] Best Score: {self.best_score:.5f}\")\n",
        "\n",
        "            #Early stop\n",
        "            self.early_stop = True"
      ],
      "metadata": {
        "id": "7j04uutAbjWR"
      },
      "execution_count": 13,
      "outputs": []
    },
    {
      "cell_type": "code",
      "source": [
        "pretrained_model_name_list = [\n",
        "    \"efficientnet_b0\"\n",
        "    ]"
      ],
      "metadata": {
        "id": "r2LrFuczbn1K"
      },
      "execution_count": 14,
      "outputs": []
    },
    {
      "cell_type": "code",
      "source": [
        "\n",
        "\n",
        "\n",
        "transform_to_tensor = transforms.ToTensor()\n",
        "def loss_epoch(model, data_loader, criterion, optimizer):\n",
        "    model.train()\n",
        "    running_loss = 0.0\n",
        "    running_corrects = 0\n",
        "\n",
        "    for inputs, labels in data_loader:\n",
        "        inputs = transform_to_tensor(inputs)\n",
        "        inputs = inputs.to(DEVICE)\n",
        "        labels = labels.to(DEVICE)\n",
        "\n",
        "        outputs = model(inputs)\n",
        "        loss = criterion(outputs, labels)\n",
        "\n",
        "        optimizer.zero_grad()\n",
        "        loss.backward()\n",
        "        optimizer.step()\n",
        "\n",
        "        _, preds = torch.max(outputs, 1)\n",
        "        running_loss += loss.item() * inputs.size(0)\n",
        "        running_corrects += torch.sum(preds == labels.data)\n",
        "\n",
        "    epoch_loss = running_loss / len(data_loader.dataset)\n",
        "    epoch_acc = running_corrects.double() / len(data_loader.dataset)\n",
        "\n",
        "    return epoch_loss, epoch_acc.item(), preds\n",
        "\n"
      ],
      "metadata": {
        "id": "qnswjLYej2MC"
      },
      "execution_count": 15,
      "outputs": []
    },
    {
      "cell_type": "code",
      "source": [
        "def loss_epoch(model, DL, criterion, optimizer = None):\n",
        "    N = len(DL.dataset)\n",
        "    rloss = 0; rcorrect = 0\n",
        "    for x_batch, y_batch in tqdm(DL, leave=False):\n",
        "        x_batch = x_batch.to(DEVICE)\n",
        "        y_batch = y_batch.to(DEVICE)\n",
        "\n",
        "        y_hat = model(x_batch)\n",
        "\n",
        "        loss = criterion(y_hat, y_batch)\n",
        "\n",
        "        if optimizer is not None:\n",
        "            optimizer.zero_grad()\n",
        "            loss.backward()\n",
        "            optimizer.step()\n",
        "\n",
        "        loss_b = loss.item() * x_batch.shape[0]\n",
        "        rloss += loss_b\n",
        "\n",
        "        pred = y_hat.argmax(dim=1)\n",
        "        corrects_b = torch.sum(pred == y_batch).item()\n",
        "        rcorrect += corrects_b\n",
        "    loss_e = rloss/ N\n",
        "    accuracy_e = rcorrect/N*100\n",
        "\n",
        "    return loss_e, accuracy_e, rcorrect"
      ],
      "metadata": {
        "id": "7RMxXd8kbrBD"
      },
      "execution_count": 16,
      "outputs": []
    },
    {
      "cell_type": "code",
      "source": [
        "for pretrained_model_name in pretrained_model_name_list:\n",
        "    print(pretrained_model_name)\n",
        "\n",
        "    #Load model\n",
        "    model = PretrainModel(pretrained_model_name, n_classes = N_CLASS)\n",
        "    model = model.to(DEVICE)\n",
        "\n",
        "    # Load object for training\n",
        "    optimizer = optim.Adam(model.parameters(), lr = LR)\n",
        "    lr_scheduler = optim.lr_scheduler.ReduceLROnPlateau(optimizer, mode = \"min\", factor = 0.1, patience = 10, cooldown = 3)\n",
        "    criterion = nn.CrossEntropyLoss()\n",
        "    early_stopping = EarlyStopping(patience = 30, thresh = 0, mode = \"min\")\n",
        "\n",
        "    best_loss = np.Inf\n",
        "    loss_history = {\"train\":[], \"val\":[]}\n",
        "    acc_history = {\"train\":[], \"val\":[]}\n",
        "\n",
        "    for epoch in range(EPOCHS):\n",
        "        epoch_start = time.time()\n",
        "        train_loss_r = 0; train_correct_r = 0\n",
        "        val_loss_r = 0; val_correct_r = 0\n",
        "        current_lr = optimizer.param_groups[0][\"lr\"]\n",
        "        print(f\"Epoch: {epoch+1}, current_LR = {current_lr}\")\n",
        "\n",
        "        model.train()\n",
        "        train_loss, train_acc, _ = loss_epoch(model, train_loader, criterion, optimizer)\n",
        "        loss_history[\"train\"].append(train_loss)\n",
        "        acc_history[\"train\"].append(train_acc)\n",
        "\n",
        "        model.eval()\n",
        "        with torch.no_grad():\n",
        "            val_loss, val_acc, _ = loss_epoch(model, val_loader, criterion)\n",
        "            loss_history[\"val\"].append(val_loss)\n",
        "            acc_history[\"val\"].append(val_acc)\n",
        "\n",
        "            if val_loss < best_loss:\n",
        "                best_loss = val_loss\n",
        "                torch.save({\n",
        "                    \"model\" : model,\n",
        "                    \"epoch\" : epoch,\n",
        "                    \"optimizer\" : optimizer,\n",
        "                    \"scheduler\" : lr_scheduler,\n",
        "                            }, f\"./pytorch_checkpoint/{pretrained_model_name}.pt\")\n",
        "\n",
        "\n",
        "            print(f\"train loss: {round(train_loss,5)}, \"\n",
        "                f\"val loss: {round(val_loss,5)} \\n\"\n",
        "                f\"train acc: {round(train_acc,1)} %, \"\n",
        "                f\"val acc: {round(val_acc,1)} %, time: {round(time.time()-epoch_start)} s\")\n",
        "            print(\"-\"*20)\n",
        "\n",
        "        lr_scheduler.step(val_loss, epoch)\n",
        "\n",
        "        early_stopping.step(val_loss)\n",
        "        if early_stopping.early_stop:\n",
        "            break"
      ],
      "metadata": {
        "colab": {
          "base_uri": "https://localhost:8080/"
        },
        "id": "5wHzswlubuBp",
        "outputId": "7b25e5b7-c811-4a17-d983-3ac7230cbcf0"
      },
      "execution_count": 20,
      "outputs": [
        {
          "output_type": "stream",
          "name": "stdout",
          "text": [
            "efficientnet_b0\n",
            "Epoch: 1, current_LR = 7e-05\n"
          ]
        },
        {
          "output_type": "stream",
          "name": "stderr",
          "text": []
        },
        {
          "output_type": "stream",
          "name": "stdout",
          "text": [
            "train loss: 0.5466, val loss: 0.34541 \n",
            "train acc: 76.3 %, val acc: 92.0 %, time: 64 s\n",
            "--------------------\n",
            "Epoch: 2, current_LR = 7e-05\n"
          ]
        },
        {
          "output_type": "stream",
          "name": "stderr",
          "text": []
        },
        {
          "output_type": "stream",
          "name": "stdout",
          "text": [
            "train loss: 0.26658, val loss: 0.19641 \n",
            "train acc: 92.6 %, val acc: 94.1 %, time: 18 s\n",
            "--------------------\n",
            "Epoch: 3, current_LR = 7e-05\n"
          ]
        },
        {
          "output_type": "stream",
          "name": "stderr",
          "text": []
        },
        {
          "output_type": "stream",
          "name": "stdout",
          "text": [
            "train loss: 0.14153, val loss: 0.1492 \n",
            "train acc: 96.4 %, val acc: 95.7 %, time: 17 s\n",
            "--------------------\n",
            "Epoch: 4, current_LR = 7e-05\n"
          ]
        },
        {
          "output_type": "stream",
          "name": "stderr",
          "text": []
        },
        {
          "output_type": "stream",
          "name": "stdout",
          "text": [
            "train loss: 0.10151, val loss: 0.15888 \n",
            "train acc: 96.8 %, val acc: 94.4 %, time: 17 s\n",
            "--------------------\n",
            "[EarlyStopping] (Patience) 1/30. Best score: 0.14920, Current: 0.15888\n",
            "Epoch: 5, current_LR = 7e-05\n"
          ]
        },
        {
          "output_type": "stream",
          "name": "stderr",
          "text": []
        },
        {
          "output_type": "stream",
          "name": "stdout",
          "text": [
            "train loss: 0.05566, val loss: 0.14607 \n",
            "train acc: 98.6 %, val acc: 95.1 %, time: 17 s\n",
            "--------------------\n",
            "Epoch: 6, current_LR = 7e-05\n"
          ]
        },
        {
          "output_type": "stream",
          "name": "stderr",
          "text": []
        },
        {
          "output_type": "stream",
          "name": "stdout",
          "text": [
            "train loss: 0.03827, val loss: 0.16039 \n",
            "train acc: 99.0 %, val acc: 94.1 %, time: 17 s\n",
            "--------------------\n",
            "[EarlyStopping] (Patience) 1/30. Best score: 0.14607, Current: 0.16039\n",
            "Epoch: 7, current_LR = 7e-05\n"
          ]
        },
        {
          "output_type": "stream",
          "name": "stderr",
          "text": []
        },
        {
          "output_type": "stream",
          "name": "stdout",
          "text": [
            "train loss: 0.03008, val loss: 0.20052 \n",
            "train acc: 99.2 %, val acc: 93.8 %, time: 17 s\n",
            "--------------------\n",
            "[EarlyStopping] (Patience) 2/30. Best score: 0.14607, Current: 0.20052\n",
            "Epoch: 8, current_LR = 7e-05\n"
          ]
        },
        {
          "output_type": "stream",
          "name": "stderr",
          "text": []
        },
        {
          "output_type": "stream",
          "name": "stdout",
          "text": [
            "train loss: 0.01925, val loss: 0.16981 \n",
            "train acc: 99.6 %, val acc: 94.4 %, time: 17 s\n",
            "--------------------\n",
            "[EarlyStopping] (Patience) 3/30. Best score: 0.14607, Current: 0.16981\n",
            "Epoch: 9, current_LR = 7e-05\n"
          ]
        },
        {
          "output_type": "stream",
          "name": "stderr",
          "text": []
        },
        {
          "output_type": "stream",
          "name": "stdout",
          "text": [
            "train loss: 0.01555, val loss: 0.2043 \n",
            "train acc: 99.7 %, val acc: 94.1 %, time: 17 s\n",
            "--------------------\n",
            "[EarlyStopping] (Patience) 4/30. Best score: 0.14607, Current: 0.20430\n",
            "Epoch: 10, current_LR = 7e-05\n"
          ]
        },
        {
          "output_type": "stream",
          "name": "stderr",
          "text": []
        },
        {
          "output_type": "stream",
          "name": "stdout",
          "text": [
            "train loss: 0.01731, val loss: 0.17703 \n",
            "train acc: 99.6 %, val acc: 95.4 %, time: 17 s\n",
            "--------------------\n",
            "[EarlyStopping] (Patience) 5/30. Best score: 0.14607, Current: 0.17703\n",
            "Epoch: 11, current_LR = 7e-05\n"
          ]
        },
        {
          "output_type": "stream",
          "name": "stderr",
          "text": []
        },
        {
          "output_type": "stream",
          "name": "stdout",
          "text": [
            "train loss: 0.01514, val loss: 0.20148 \n",
            "train acc: 99.5 %, val acc: 93.8 %, time: 17 s\n",
            "--------------------\n",
            "[EarlyStopping] (Patience) 6/30. Best score: 0.14607, Current: 0.20148\n",
            "Epoch: 12, current_LR = 7e-05\n"
          ]
        },
        {
          "output_type": "stream",
          "name": "stderr",
          "text": []
        },
        {
          "output_type": "stream",
          "name": "stdout",
          "text": [
            "train loss: 0.01297, val loss: 0.20863 \n",
            "train acc: 99.7 %, val acc: 94.1 %, time: 17 s\n",
            "--------------------\n",
            "[EarlyStopping] (Patience) 7/30. Best score: 0.14607, Current: 0.20863\n",
            "Epoch: 13, current_LR = 7e-05\n"
          ]
        },
        {
          "output_type": "stream",
          "name": "stderr",
          "text": []
        },
        {
          "output_type": "stream",
          "name": "stdout",
          "text": [
            "train loss: 0.00826, val loss: 0.21085 \n",
            "train acc: 99.8 %, val acc: 93.8 %, time: 17 s\n",
            "--------------------\n",
            "[EarlyStopping] (Patience) 8/30. Best score: 0.14607, Current: 0.21085\n",
            "Epoch: 14, current_LR = 7e-05\n"
          ]
        },
        {
          "output_type": "stream",
          "name": "stderr",
          "text": []
        },
        {
          "output_type": "stream",
          "name": "stdout",
          "text": [
            "train loss: 0.01295, val loss: 0.20707 \n",
            "train acc: 99.5 %, val acc: 94.1 %, time: 17 s\n",
            "--------------------\n",
            "[EarlyStopping] (Patience) 9/30. Best score: 0.14607, Current: 0.20707\n",
            "Epoch: 15, current_LR = 7e-05\n"
          ]
        },
        {
          "output_type": "stream",
          "name": "stderr",
          "text": []
        },
        {
          "output_type": "stream",
          "name": "stdout",
          "text": [
            "train loss: 0.01158, val loss: 0.18836 \n",
            "train acc: 99.5 %, val acc: 94.4 %, time: 17 s\n",
            "--------------------\n",
            "[EarlyStopping] (Patience) 10/30. Best score: 0.14607, Current: 0.18836\n",
            "Epoch: 16, current_LR = 7e-05\n"
          ]
        },
        {
          "output_type": "stream",
          "name": "stderr",
          "text": []
        },
        {
          "output_type": "stream",
          "name": "stdout",
          "text": [
            "train loss: 0.00917, val loss: 0.20513 \n",
            "train acc: 99.8 %, val acc: 94.1 %, time: 17 s\n",
            "--------------------\n",
            "[EarlyStopping] (Patience) 11/30. Best score: 0.14607, Current: 0.20513\n",
            "Epoch: 17, current_LR = 7e-06\n"
          ]
        },
        {
          "output_type": "stream",
          "name": "stderr",
          "text": []
        },
        {
          "output_type": "stream",
          "name": "stdout",
          "text": [
            "train loss: 0.00872, val loss: 0.19944 \n",
            "train acc: 99.8 %, val acc: 93.5 %, time: 17 s\n",
            "--------------------\n",
            "[EarlyStopping] (Patience) 12/30. Best score: 0.14607, Current: 0.19944\n",
            "Epoch: 18, current_LR = 7e-06\n"
          ]
        },
        {
          "output_type": "stream",
          "name": "stderr",
          "text": []
        },
        {
          "output_type": "stream",
          "name": "stdout",
          "text": [
            "train loss: 0.00814, val loss: 0.19226 \n",
            "train acc: 99.8 %, val acc: 94.1 %, time: 17 s\n",
            "--------------------\n",
            "[EarlyStopping] (Patience) 13/30. Best score: 0.14607, Current: 0.19226\n",
            "Epoch: 19, current_LR = 7e-06\n"
          ]
        },
        {
          "output_type": "stream",
          "name": "stderr",
          "text": []
        },
        {
          "output_type": "stream",
          "name": "stdout",
          "text": [
            "train loss: 0.00558, val loss: 0.22122 \n",
            "train acc: 99.9 %, val acc: 93.5 %, time: 17 s\n",
            "--------------------\n",
            "[EarlyStopping] (Patience) 14/30. Best score: 0.14607, Current: 0.22122\n",
            "Epoch: 20, current_LR = 7e-06\n"
          ]
        },
        {
          "output_type": "stream",
          "name": "stderr",
          "text": []
        },
        {
          "output_type": "stream",
          "name": "stdout",
          "text": [
            "train loss: 0.0052, val loss: 0.2143 \n",
            "train acc: 100.0 %, val acc: 93.8 %, time: 17 s\n",
            "--------------------\n",
            "[EarlyStopping] (Patience) 15/30. Best score: 0.14607, Current: 0.21430\n",
            "Epoch: 21, current_LR = 7e-06\n"
          ]
        },
        {
          "output_type": "stream",
          "name": "stderr",
          "text": []
        },
        {
          "output_type": "stream",
          "name": "stdout",
          "text": [
            "train loss: 0.00568, val loss: 0.22284 \n",
            "train acc: 99.9 %, val acc: 93.5 %, time: 17 s\n",
            "--------------------\n",
            "[EarlyStopping] (Patience) 16/30. Best score: 0.14607, Current: 0.22284\n",
            "Epoch: 22, current_LR = 7e-06\n"
          ]
        },
        {
          "output_type": "stream",
          "name": "stderr",
          "text": []
        },
        {
          "output_type": "stream",
          "name": "stdout",
          "text": [
            "train loss: 0.00442, val loss: 0.2117 \n",
            "train acc: 100.0 %, val acc: 93.8 %, time: 17 s\n",
            "--------------------\n",
            "[EarlyStopping] (Patience) 17/30. Best score: 0.14607, Current: 0.21170\n",
            "Epoch: 23, current_LR = 7e-06\n"
          ]
        },
        {
          "output_type": "stream",
          "name": "stderr",
          "text": []
        },
        {
          "output_type": "stream",
          "name": "stdout",
          "text": [
            "train loss: 0.0054, val loss: 0.25038 \n",
            "train acc: 99.9 %, val acc: 92.9 %, time: 18 s\n",
            "--------------------\n",
            "[EarlyStopping] (Patience) 18/30. Best score: 0.14607, Current: 0.25038\n",
            "Epoch: 24, current_LR = 7e-06\n"
          ]
        },
        {
          "output_type": "stream",
          "name": "stderr",
          "text": []
        },
        {
          "output_type": "stream",
          "name": "stdout",
          "text": [
            "train loss: 0.0039, val loss: 0.20563 \n",
            "train acc: 99.9 %, val acc: 94.1 %, time: 17 s\n",
            "--------------------\n",
            "[EarlyStopping] (Patience) 19/30. Best score: 0.14607, Current: 0.20563\n",
            "Epoch: 25, current_LR = 7e-06\n"
          ]
        },
        {
          "output_type": "stream",
          "name": "stderr",
          "text": []
        },
        {
          "output_type": "stream",
          "name": "stdout",
          "text": [
            "train loss: 0.00544, val loss: 0.2282 \n",
            "train acc: 99.8 %, val acc: 93.8 %, time: 17 s\n",
            "--------------------\n",
            "[EarlyStopping] (Patience) 20/30. Best score: 0.14607, Current: 0.22820\n",
            "Epoch: 26, current_LR = 7e-06\n"
          ]
        },
        {
          "output_type": "stream",
          "name": "stderr",
          "text": []
        },
        {
          "output_type": "stream",
          "name": "stdout",
          "text": [
            "train loss: 0.00441, val loss: 0.19252 \n",
            "train acc: 99.9 %, val acc: 93.8 %, time: 17 s\n",
            "--------------------\n",
            "[EarlyStopping] (Patience) 21/30. Best score: 0.14607, Current: 0.19252\n",
            "Epoch: 27, current_LR = 7e-06\n"
          ]
        },
        {
          "output_type": "stream",
          "name": "stderr",
          "text": []
        },
        {
          "output_type": "stream",
          "name": "stdout",
          "text": [
            "train loss: 0.00698, val loss: 0.22889 \n",
            "train acc: 99.9 %, val acc: 93.8 %, time: 17 s\n",
            "--------------------\n",
            "[EarlyStopping] (Patience) 22/30. Best score: 0.14607, Current: 0.22889\n",
            "Epoch: 28, current_LR = 7e-06\n"
          ]
        },
        {
          "output_type": "stream",
          "name": "stderr",
          "text": []
        },
        {
          "output_type": "stream",
          "name": "stdout",
          "text": [
            "train loss: 0.00408, val loss: 0.2441 \n",
            "train acc: 99.9 %, val acc: 93.5 %, time: 17 s\n",
            "--------------------\n",
            "[EarlyStopping] (Patience) 23/30. Best score: 0.14607, Current: 0.24410\n",
            "Epoch: 29, current_LR = 7e-06\n"
          ]
        },
        {
          "output_type": "stream",
          "name": "stderr",
          "text": []
        },
        {
          "output_type": "stream",
          "name": "stdout",
          "text": [
            "train loss: 0.0057, val loss: 0.23529 \n",
            "train acc: 99.8 %, val acc: 93.5 %, time: 17 s\n",
            "--------------------\n",
            "[EarlyStopping] (Patience) 24/30. Best score: 0.14607, Current: 0.23529\n",
            "Epoch: 30, current_LR = 7e-06\n"
          ]
        },
        {
          "output_type": "stream",
          "name": "stderr",
          "text": []
        },
        {
          "output_type": "stream",
          "name": "stdout",
          "text": [
            "train loss: 0.00482, val loss: 0.21141 \n",
            "train acc: 100.0 %, val acc: 94.4 %, time: 17 s\n",
            "--------------------\n",
            "[EarlyStopping] (Patience) 25/30. Best score: 0.14607, Current: 0.21141\n",
            "Epoch: 31, current_LR = 7.000000000000001e-07\n"
          ]
        },
        {
          "output_type": "stream",
          "name": "stderr",
          "text": []
        },
        {
          "output_type": "stream",
          "name": "stdout",
          "text": [
            "train loss: 0.0054, val loss: 0.21588 \n",
            "train acc: 100.0 %, val acc: 93.8 %, time: 17 s\n",
            "--------------------\n",
            "[EarlyStopping] (Patience) 26/30. Best score: 0.14607, Current: 0.21588\n",
            "Epoch: 32, current_LR = 7.000000000000001e-07\n"
          ]
        },
        {
          "output_type": "stream",
          "name": "stderr",
          "text": []
        },
        {
          "output_type": "stream",
          "name": "stdout",
          "text": [
            "train loss: 0.00413, val loss: 0.22678 \n",
            "train acc: 100.0 %, val acc: 93.8 %, time: 17 s\n",
            "--------------------\n",
            "[EarlyStopping] (Patience) 27/30. Best score: 0.14607, Current: 0.22678\n",
            "Epoch: 33, current_LR = 7.000000000000001e-07\n"
          ]
        },
        {
          "output_type": "stream",
          "name": "stderr",
          "text": []
        },
        {
          "output_type": "stream",
          "name": "stdout",
          "text": [
            "train loss: 0.00578, val loss: 0.21766 \n",
            "train acc: 99.8 %, val acc: 93.8 %, time: 17 s\n",
            "--------------------\n",
            "[EarlyStopping] (Patience) 28/30. Best score: 0.14607, Current: 0.21766\n",
            "Epoch: 34, current_LR = 7.000000000000001e-07\n"
          ]
        },
        {
          "output_type": "stream",
          "name": "stderr",
          "text": []
        },
        {
          "output_type": "stream",
          "name": "stdout",
          "text": [
            "train loss: 0.00658, val loss: 0.20238 \n",
            "train acc: 99.8 %, val acc: 94.1 %, time: 21 s\n",
            "--------------------\n",
            "[EarlyStopping] (Patience) 29/30. Best score: 0.14607, Current: 0.20238\n",
            "Epoch: 35, current_LR = 7.000000000000001e-07\n"
          ]
        },
        {
          "output_type": "stream",
          "name": "stderr",
          "text": [
            "                                               "
          ]
        },
        {
          "output_type": "stream",
          "name": "stdout",
          "text": [
            "train loss: 0.00379, val loss: 0.20663 \n",
            "train acc: 100.0 %, val acc: 94.4 %, time: 18 s\n",
            "--------------------\n",
            "[EarlyStopping] (Patience) 30/30. Best score: 0.14607, Current: 0.20663\n",
            "[EarlyStop Triggered] Best Score: 0.14607\n"
          ]
        },
        {
          "output_type": "stream",
          "name": "stderr",
          "text": [
            "\r"
          ]
        }
      ]
    },
    {
      "cell_type": "code",
      "source": [
        "def draw_history(train_loss_list, val_loss_list, title):\n",
        "    assert len(train_loss_list) == len(val_loss_list)\n",
        "    if len(train_loss_list) < 2:\n",
        "        return None\n",
        "    train_loss_x_list = np.arange(0, len(train_loss_list), 1)\n",
        "    val_loss_x_list = np.arange(0, len(val_loss_list), 1)\n",
        "    plt.figure(figsize = (20, 10))\n",
        "    plt.plot(train_loss_x_list, train_loss_list, label = f\"train {title}\")\n",
        "    plt.plot(val_loss_x_list, val_loss_list, label = f\"val {title}\")\n",
        "    plt.title(title)\n",
        "    plt.show()"
      ],
      "metadata": {
        "id": "2NtkmN-nyt4r"
      },
      "execution_count": 21,
      "outputs": []
    },
    {
      "cell_type": "code",
      "source": [
        "draw_history(loss_history[\"train\"], loss_history[\"val\"], title = \"Cross Entropy Loss\")\n",
        "draw_history(acc_history[\"train\"], acc_history[\"val\"], title = \"Accuracy\")"
      ],
      "metadata": {
        "colab": {
          "base_uri": "https://localhost:8080/",
          "height": 1000
        },
        "id": "cT8266OwwvBa",
        "outputId": "dc22735c-bf5c-4006-8e17-256a478f1d2c"
      },
      "execution_count": 22,
      "outputs": [
        {
          "output_type": "display_data",
          "data": {
            "text/plain": [
              "<Figure size 2000x1000 with 1 Axes>"
            ],
            "image/png": "[encoded data removed]"
          },
          "metadata": {}
        },
        {
          "output_type": "display_data",
          "data": {
            "text/plain": [
              "<Figure size 2000x1000 with 1 Axes>"
            ],
            "image/png": "[encoded data removed]"
          },
          "metadata": {}
        }
      ]
    },
    {
      "cell_type": "code",
      "source": [
        "loaded_model = torch.load(\"./pytorch_checkpoint/efficientnet_b0.pt\")"
      ],
      "metadata": {
        "id": "axb1YY-N19ez"
      },
      "execution_count": 24,
      "outputs": []
    },
    {
      "cell_type": "code",
      "source": [
        "correct = 0\n",
        "for batch_imgs, batch_labels in test_loader:\n",
        "    batch_imgs = batch_imgs.to(DEVICE)\n",
        "    batch_labels = batch_labels.to(DEVICE)\n",
        "\n",
        "    y_hat = loaded_model[\"model\"](batch_imgs)\n",
        "    y_pred = y_hat.argmax(dim = 1)\n",
        "    correct += torch.sum(y_pred == batch_labels).item()\n",
        "\n",
        "print((correct / len(test_loader.dataset)) * 100)"
      ],
      "metadata": {
        "colab": {
          "base_uri": "https://localhost:8080/"
        },
        "id": "eKf2CO2Kww_-",
        "outputId": "47bdaf58-7476-4c62-eb61-06a4b0cfae2b"
      },
      "execution_count": 25,
      "outputs": [
        {
          "output_type": "stream",
          "name": "stdout",
          "text": [
            "95.8128078817734\n"
          ]
        }
      ]
    }
  ]
}